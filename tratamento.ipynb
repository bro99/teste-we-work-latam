{
 "cells": [
  {
   "cell_type": "code",
   "execution_count": 1,
   "metadata": {},
   "outputs": [],
   "source": [
    "import pandas as pd\n",
    "import seaborn as sns\n",
    "from sklearn.linear_model import LogisticRegression\n",
    "from sklearn.tree import DecisionTreeClassifier\n",
    "from sklearn.neighbors import KNeighborsClassifier\n",
    "from sklearn.metrics import accuracy_score\n",
    "import matplotlib.pyplot as plt\n",
    "from sklearn import metrics\n",
    "from sklearn.metrics import roc_curve, confusion_matrix, auc,classification_report\n",
    "from sklearn import preprocessing\n",
    "from sklearn.model_selection import cross_val_score\n",
    "from sklearn.model_selection import RepeatedStratifiedKFold\n",
    "from numpy import mean\n",
    "from sklearn.preprocessing import MinMaxScaler\n",
    "from sklearn.model_selection import GridSearchCV\n",
    "import warnings\n",
    "warnings.filterwarnings('ignore')\n",
    "import seaborn as sns\n",
    "from sklearn.metrics import roc_auc_score\n",
    "\n",
    "import matplotlib.pyplot as plt\n",
    "%matplotlib inline\n",
    "\n",
    "\n",
    "import numpy as np\n"
   ]
  },
  {
   "cell_type": "code",
   "execution_count": 2,
   "metadata": {},
   "outputs": [
    {
     "name": "stdout",
     "output_type": "stream",
     "text": [
      "     País          Cidade    Tipo de Produto      Origem do Lead        Mês  \\\n",
      "0  Brazil  Belo Horizonte  WeWork All Access  E-Commerce Closing 2021-01-08   \n",
      "1  Brazil  Belo Horizonte  WeWork All Access  E-Commerce Closing 2021-01-09   \n",
      "2  Brazil  Belo Horizonte  WeWork All Access  E-Commerce Closing 2021-01-10   \n",
      "3  Brazil  Belo Horizonte  WeWork All Access  E-Commerce Closing 2021-01-11   \n",
      "4  Brazil  Belo Horizonte  WeWork All Access  E-Commerce Closing 2021-01-12   \n",
      "\n",
      "   Novos Contratos  Contratos Totais  Contratos Encerrados  Novas Contas  \\\n",
      "0                4                 4                     0             4   \n",
      "1               28                29                     3            28   \n",
      "2               12                20                    21            12   \n",
      "3               16                24                    12            16   \n",
      "4                8                11                    21             8   \n",
      "\n",
      "   Total de Contas  Contas Encerradas  Novos Membros  Total de Membros  \\\n",
      "0                4                  0              4                 4   \n",
      "1               29                  3             30                31   \n",
      "2               20                 21             16                23   \n",
      "3               24                 12             16                27   \n",
      "4               11                 21             10                13   \n",
      "\n",
      "   Membros Inativos  \n",
      "0                 0  \n",
      "1                 3  \n",
      "2                24  \n",
      "3                12  \n",
      "4                24  \n"
     ]
    }
   ],
   "source": [
    "import pandas as pd\n",
    "\n",
    "# Carregue o arquivo Excel\n",
    "caminho_arquivo = '[Dados] Case - Data - Latam.xlsx'  # Substitua pelo caminho do seu arquivo\n",
    "dados_excel = pd.read_excel(caminho_arquivo)\n",
    "\n",
    "# Visualize os primeiros registros para garantir que o arquivo foi lido corretamente\n",
    "print(dados_excel.head())\n"
   ]
  },
  {
   "cell_type": "code",
   "execution_count": 3,
   "metadata": {},
   "outputs": [
    {
     "data": {
      "text/plain": [
       "Index(['País', 'Cidade', 'Tipo de Produto', 'Origem do Lead', 'Mês',\n",
       "       'Novos Contratos', 'Contratos Totais', 'Contratos Encerrados',\n",
       "       'Novas Contas', 'Total de Contas', 'Contas Encerradas', 'Novos Membros',\n",
       "       'Total de Membros', 'Membros Inativos'],\n",
       "      dtype='object')"
      ]
     },
     "execution_count": 3,
     "metadata": {},
     "output_type": "execute_result"
    }
   ],
   "source": [
    "dados_excel.columns"
   ]
  },
  {
   "cell_type": "code",
   "execution_count": 4,
   "metadata": {},
   "outputs": [],
   "source": [
    "novas_contas_membros_por_mes = dados_excel.groupby('Mês')[['Novas Contas', 'Novos Membros']].sum()\n"
   ]
  },
  {
   "cell_type": "code",
   "execution_count": 5,
   "metadata": {},
   "outputs": [
    {
     "data": {
      "text/html": [
       "<div>\n",
       "<style scoped>\n",
       "    .dataframe tbody tr th:only-of-type {\n",
       "        vertical-align: middle;\n",
       "    }\n",
       "\n",
       "    .dataframe tbody tr th {\n",
       "        vertical-align: top;\n",
       "    }\n",
       "\n",
       "    .dataframe thead th {\n",
       "        text-align: right;\n",
       "    }\n",
       "</style>\n",
       "<table border=\"1\" class=\"dataframe\">\n",
       "  <thead>\n",
       "    <tr style=\"text-align: right;\">\n",
       "      <th></th>\n",
       "      <th>Novas Contas</th>\n",
       "      <th>Novos Membros</th>\n",
       "    </tr>\n",
       "    <tr>\n",
       "      <th>Mês</th>\n",
       "      <th></th>\n",
       "      <th></th>\n",
       "    </tr>\n",
       "  </thead>\n",
       "  <tbody>\n",
       "    <tr>\n",
       "      <th>2021-01-01</th>\n",
       "      <td>12</td>\n",
       "      <td>218</td>\n",
       "    </tr>\n",
       "    <tr>\n",
       "      <th>2021-01-02</th>\n",
       "      <td>6</td>\n",
       "      <td>82</td>\n",
       "    </tr>\n",
       "    <tr>\n",
       "      <th>2021-01-03</th>\n",
       "      <td>50</td>\n",
       "      <td>66</td>\n",
       "    </tr>\n",
       "    <tr>\n",
       "      <th>2021-01-04</th>\n",
       "      <td>54</td>\n",
       "      <td>92</td>\n",
       "    </tr>\n",
       "    <tr>\n",
       "      <th>2021-01-05</th>\n",
       "      <td>188</td>\n",
       "      <td>658</td>\n",
       "    </tr>\n",
       "    <tr>\n",
       "      <th>2021-01-06</th>\n",
       "      <td>268</td>\n",
       "      <td>3366</td>\n",
       "    </tr>\n",
       "    <tr>\n",
       "      <th>2021-01-07</th>\n",
       "      <td>460</td>\n",
       "      <td>782</td>\n",
       "    </tr>\n",
       "    <tr>\n",
       "      <th>2021-01-08</th>\n",
       "      <td>900</td>\n",
       "      <td>1744</td>\n",
       "    </tr>\n",
       "    <tr>\n",
       "      <th>2021-01-09</th>\n",
       "      <td>1288</td>\n",
       "      <td>4706</td>\n",
       "    </tr>\n",
       "    <tr>\n",
       "      <th>2021-01-10</th>\n",
       "      <td>1156</td>\n",
       "      <td>2262</td>\n",
       "    </tr>\n",
       "    <tr>\n",
       "      <th>2021-01-11</th>\n",
       "      <td>1330</td>\n",
       "      <td>2326</td>\n",
       "    </tr>\n",
       "    <tr>\n",
       "      <th>2021-01-12</th>\n",
       "      <td>860</td>\n",
       "      <td>2122</td>\n",
       "    </tr>\n",
       "  </tbody>\n",
       "</table>\n",
       "</div>"
      ],
      "text/plain": [
       "            Novas Contas  Novos Membros\n",
       "Mês                                    \n",
       "2021-01-01            12            218\n",
       "2021-01-02             6             82\n",
       "2021-01-03            50             66\n",
       "2021-01-04            54             92\n",
       "2021-01-05           188            658\n",
       "2021-01-06           268           3366\n",
       "2021-01-07           460            782\n",
       "2021-01-08           900           1744\n",
       "2021-01-09          1288           4706\n",
       "2021-01-10          1156           2262\n",
       "2021-01-11          1330           2326\n",
       "2021-01-12           860           2122"
      ]
     },
     "execution_count": 5,
     "metadata": {},
     "output_type": "execute_result"
    }
   ],
   "source": [
    "novas_contas_membros_por_mes"
   ]
  },
  {
   "cell_type": "code",
   "execution_count": 6,
   "metadata": {},
   "outputs": [],
   "source": [
    "distribuicao_geografica = dados_excel.groupby(['País', 'Cidade']).size().reset_index(name='Número de Usuários')\n"
   ]
  },
  {
   "cell_type": "code",
   "execution_count": 8,
   "metadata": {},
   "outputs": [],
   "source": [
    "distribuicao_geografica_ordenada = distribuicao_geografica.sort_values(by='Número de Usuários', ascending=False)\n"
   ]
  },
  {
   "cell_type": "code",
   "execution_count": 9,
   "metadata": {},
   "outputs": [
    {
     "data": {
      "text/html": [
       "<div>\n",
       "<style scoped>\n",
       "    .dataframe tbody tr th:only-of-type {\n",
       "        vertical-align: middle;\n",
       "    }\n",
       "\n",
       "    .dataframe tbody tr th {\n",
       "        vertical-align: top;\n",
       "    }\n",
       "\n",
       "    .dataframe thead th {\n",
       "        text-align: right;\n",
       "    }\n",
       "</style>\n",
       "<table border=\"1\" class=\"dataframe\">\n",
       "  <thead>\n",
       "    <tr style=\"text-align: right;\">\n",
       "      <th></th>\n",
       "      <th>País</th>\n",
       "      <th>Cidade</th>\n",
       "      <th>Número de Usuários</th>\n",
       "    </tr>\n",
       "  </thead>\n",
       "  <tbody>\n",
       "    <tr>\n",
       "      <th>6</th>\n",
       "      <td>Brazil</td>\n",
       "      <td>São Paulo</td>\n",
       "      <td>34</td>\n",
       "    </tr>\n",
       "    <tr>\n",
       "      <th>12</th>\n",
       "      <td>Mexico</td>\n",
       "      <td>Ciudad de México</td>\n",
       "      <td>34</td>\n",
       "    </tr>\n",
       "    <tr>\n",
       "      <th>4</th>\n",
       "      <td>Brazil</td>\n",
       "      <td>Rio de Janeiro</td>\n",
       "      <td>26</td>\n",
       "    </tr>\n",
       "    <tr>\n",
       "      <th>0</th>\n",
       "      <td>Argentina</td>\n",
       "      <td>Buenos Aires</td>\n",
       "      <td>23</td>\n",
       "    </tr>\n",
       "    <tr>\n",
       "      <th>14</th>\n",
       "      <td>Mexico</td>\n",
       "      <td>Monterrey</td>\n",
       "      <td>23</td>\n",
       "    </tr>\n",
       "    <tr>\n",
       "      <th>16</th>\n",
       "      <td>Mexico</td>\n",
       "      <td>Zapopan</td>\n",
       "      <td>22</td>\n",
       "    </tr>\n",
       "    <tr>\n",
       "      <th>1</th>\n",
       "      <td>Brazil</td>\n",
       "      <td>Belo Horizonte</td>\n",
       "      <td>21</td>\n",
       "    </tr>\n",
       "    <tr>\n",
       "      <th>9</th>\n",
       "      <td>Colombia</td>\n",
       "      <td>Bogotá</td>\n",
       "      <td>21</td>\n",
       "    </tr>\n",
       "    <tr>\n",
       "      <th>13</th>\n",
       "      <td>Mexico</td>\n",
       "      <td>Guadalajara</td>\n",
       "      <td>20</td>\n",
       "    </tr>\n",
       "    <tr>\n",
       "      <th>5</th>\n",
       "      <td>Brazil</td>\n",
       "      <td>São Bernardo do Campo</td>\n",
       "      <td>19</td>\n",
       "    </tr>\n",
       "    <tr>\n",
       "      <th>7</th>\n",
       "      <td>Chile</td>\n",
       "      <td>Santiago de Chile</td>\n",
       "      <td>17</td>\n",
       "    </tr>\n",
       "    <tr>\n",
       "      <th>11</th>\n",
       "      <td>Mexico</td>\n",
       "      <td>Centro, Monterrey</td>\n",
       "      <td>17</td>\n",
       "    </tr>\n",
       "    <tr>\n",
       "      <th>10</th>\n",
       "      <td>Colombia</td>\n",
       "      <td>Medellín</td>\n",
       "      <td>16</td>\n",
       "    </tr>\n",
       "    <tr>\n",
       "      <th>8</th>\n",
       "      <td>Colombia</td>\n",
       "      <td>Barranquilla</td>\n",
       "      <td>16</td>\n",
       "    </tr>\n",
       "    <tr>\n",
       "      <th>3</th>\n",
       "      <td>Brazil</td>\n",
       "      <td>Porto Alegre</td>\n",
       "      <td>13</td>\n",
       "    </tr>\n",
       "    <tr>\n",
       "      <th>15</th>\n",
       "      <td>Mexico</td>\n",
       "      <td>Tlajomulco de Zúñiga</td>\n",
       "      <td>6</td>\n",
       "    </tr>\n",
       "    <tr>\n",
       "      <th>2</th>\n",
       "      <td>Brazil</td>\n",
       "      <td>Osasco</td>\n",
       "      <td>1</td>\n",
       "    </tr>\n",
       "  </tbody>\n",
       "</table>\n",
       "</div>"
      ],
      "text/plain": [
       "         País                 Cidade  Número de Usuários\n",
       "6      Brazil              São Paulo                  34\n",
       "12     Mexico       Ciudad de México                  34\n",
       "4      Brazil         Rio de Janeiro                  26\n",
       "0   Argentina           Buenos Aires                  23\n",
       "14     Mexico              Monterrey                  23\n",
       "16     Mexico                Zapopan                  22\n",
       "1      Brazil         Belo Horizonte                  21\n",
       "9    Colombia                 Bogotá                  21\n",
       "13     Mexico            Guadalajara                  20\n",
       "5      Brazil  São Bernardo do Campo                  19\n",
       "7       Chile      Santiago de Chile                  17\n",
       "11     Mexico      Centro, Monterrey                  17\n",
       "10   Colombia               Medellín                  16\n",
       "8    Colombia           Barranquilla                  16\n",
       "3      Brazil           Porto Alegre                  13\n",
       "15     Mexico   Tlajomulco de Zúñiga                   6\n",
       "2      Brazil                 Osasco                   1"
      ]
     },
     "execution_count": 9,
     "metadata": {},
     "output_type": "execute_result"
    }
   ],
   "source": [
    "distribuicao_geografica_ordenada "
   ]
  },
  {
   "cell_type": "code",
   "execution_count": 10,
   "metadata": {},
   "outputs": [],
   "source": [
    "tipo_produto_popular = dados_excel.groupby('Tipo de Produto').size().reset_index(name='Número de Contratos')\n"
   ]
  },
  {
   "cell_type": "code",
   "execution_count": 11,
   "metadata": {},
   "outputs": [
    {
     "data": {
      "text/html": [
       "<div>\n",
       "<style scoped>\n",
       "    .dataframe tbody tr th:only-of-type {\n",
       "        vertical-align: middle;\n",
       "    }\n",
       "\n",
       "    .dataframe tbody tr th {\n",
       "        vertical-align: top;\n",
       "    }\n",
       "\n",
       "    .dataframe thead th {\n",
       "        text-align: right;\n",
       "    }\n",
       "</style>\n",
       "<table border=\"1\" class=\"dataframe\">\n",
       "  <thead>\n",
       "    <tr style=\"text-align: right;\">\n",
       "      <th></th>\n",
       "      <th>Tipo de Produto</th>\n",
       "      <th>Número de Contratos</th>\n",
       "    </tr>\n",
       "  </thead>\n",
       "  <tbody>\n",
       "    <tr>\n",
       "      <th>0</th>\n",
       "      <td>WeWork All Access</td>\n",
       "      <td>312</td>\n",
       "    </tr>\n",
       "    <tr>\n",
       "      <th>1</th>\n",
       "      <td>WeWork All Access - Pay Per Use</td>\n",
       "      <td>17</td>\n",
       "    </tr>\n",
       "  </tbody>\n",
       "</table>\n",
       "</div>"
      ],
      "text/plain": [
       "                   Tipo de Produto  Número de Contratos\n",
       "0                WeWork All Access                  312\n",
       "1  WeWork All Access - Pay Per Use                   17"
      ]
     },
     "execution_count": 11,
     "metadata": {},
     "output_type": "execute_result"
    }
   ],
   "source": [
    "tipo_produto_popular"
   ]
  },
  {
   "cell_type": "code",
   "execution_count": 12,
   "metadata": {},
   "outputs": [
    {
     "name": "stdout",
     "output_type": "stream",
     "text": [
      "         País                 Cidade  Taxa de Crescimento das Contas\n",
      "100     Chile      Santiago de Chile                             inf\n",
      "137    Mexico      Centro, Monterrey                             inf\n",
      "178    Mexico                Zapopan                             inf\n",
      "223    Brazil         Rio de Janeiro                             inf\n",
      "230    Brazil  São Bernardo do Campo                             inf\n",
      "305    Mexico            Guadalajara                             inf\n",
      "28     Mexico       Ciudad de México                          1100.0\n",
      "266  Colombia                 Bogotá                          1000.0\n",
      "88     Brazil              São Paulo                           900.0\n",
      "234    Brazil              São Paulo                           900.0\n"
     ]
    }
   ],
   "source": [
    "# Calcula a taxa de crescimento das contas por país e cidade\n",
    "taxa_crescimento_contas_por_local = dados_excel.groupby(['País', 'Cidade'])['Total de Contas'].pct_change() * 100\n",
    "\n",
    "# Cria um novo DataFrame com o país, cidade e taxa de crescimento das contas\n",
    "df_taxa_crescimento_contas_por_local = pd.DataFrame({\n",
    "    'País': dados_excel['País'],\n",
    "    'Cidade': dados_excel['Cidade'],\n",
    "    'Taxa de Crescimento das Contas': taxa_crescimento_contas_por_local\n",
    "})\n",
    "\n",
    "# Obtém o top 10 dos resultados ordenados\n",
    "top_10_taxa_crescimento_contas_por_local = df_taxa_crescimento_contas_por_local.nlargest(10, 'Taxa de Crescimento das Contas')\n",
    "\n",
    "# Exibe o top 10 dos resultados\n",
    "print(top_10_taxa_crescimento_contas_por_local)\n",
    "\n"
   ]
  },
  {
   "cell_type": "code",
   "execution_count": 13,
   "metadata": {},
   "outputs": [],
   "source": [
    "taxa_rescisao_contas = (dados_excel['Contas Encerradas'] / dados_excel['Total de Contas']) * 100"
   ]
  },
  {
   "cell_type": "code",
   "execution_count": 14,
   "metadata": {},
   "outputs": [
    {
     "data": {
      "text/plain": [
       "0        0.000000\n",
       "1       10.344828\n",
       "2      105.000000\n",
       "3       50.000000\n",
       "4      190.909091\n",
       "          ...    \n",
       "324      0.000000\n",
       "325    120.000000\n",
       "326    600.000000\n",
       "327     44.444444\n",
       "328    225.000000\n",
       "Length: 329, dtype: float64"
      ]
     },
     "execution_count": 14,
     "metadata": {},
     "output_type": "execute_result"
    }
   ],
   "source": [
    "taxa_rescisao_contas"
   ]
  },
  {
   "cell_type": "code",
   "execution_count": 15,
   "metadata": {},
   "outputs": [
    {
     "name": "stdout",
     "output_type": "stream",
     "text": [
      "          País                 Cidade  Taxa de Inatividade de Membros\n",
      "216     Brazil         Rio de Janeiro                             inf\n",
      "304     Mexico            Guadalajara                             inf\n",
      "136     Mexico      Centro, Monterrey                             inf\n",
      "295     Mexico       Ciudad de México                     1166.283525\n",
      "56   Argentina           Buenos Aires                      900.000000\n",
      "59      Brazil         Belo Horizonte                      450.000000\n",
      "16      Brazil  São Bernardo do Campo                      400.000000\n",
      "204     Brazil         Belo Horizonte                      400.000000\n",
      "328     Mexico                Zapopan                      300.000000\n",
      "114   Colombia           Barranquilla                      300.000000\n"
     ]
    }
   ],
   "source": [
    "\n",
    "dados_excel['Taxa de Inatividade de Membros'] = (dados_excel['Membros Inativos'] / dados_excel['Total de Membros']) * 100\n",
    "\n",
    "\n",
    "df_top_10_inatividade = dados_excel.sort_values(by='Taxa de Inatividade de Membros', ascending=False).head(10)\n",
    "\n",
    "# Exiba o top 10 das taxas de inatividade de membros\n",
    "print(df_top_10_inatividade[['País', 'Cidade', 'Taxa de Inatividade de Membros']])\n"
   ]
  },
  {
   "cell_type": "code",
   "execution_count": 16,
   "metadata": {},
   "outputs": [],
   "source": [
    "taxa_conversao_origem_lead = (dados_excel.groupby('Origem do Lead')['Contratos Totais'].sum() / dados_excel['Contratos Totais'].sum()) * 100\n"
   ]
  },
  {
   "cell_type": "code",
   "execution_count": 17,
   "metadata": {},
   "outputs": [
    {
     "data": {
      "text/plain": [
       "Origem do Lead\n",
       "E-Commerce Closing      21.751068\n",
       "E-Commerce Lead         32.207138\n",
       "Sales Lead & Closing    46.041794\n",
       "Name: Contratos Totais, dtype: float64"
      ]
     },
     "execution_count": 17,
     "metadata": {},
     "output_type": "execute_result"
    }
   ],
   "source": [
    "taxa_conversao_origem_lead"
   ]
  },
  {
   "cell_type": "code",
   "execution_count": 18,
   "metadata": {},
   "outputs": [],
   "source": [
    "\n",
    "distribuicao_origem_lead = (dados_excel.groupby('Origem do Lead').size() / len(dados_excel)) * 100\n"
   ]
  },
  {
   "cell_type": "code",
   "execution_count": 19,
   "metadata": {},
   "outputs": [
    {
     "data": {
      "text/plain": [
       "Origem do Lead\n",
       "E-Commerce Closing      13.981763\n",
       "E-Commerce Lead         42.553191\n",
       "Sales Lead & Closing    43.465046\n",
       "dtype: float64"
      ]
     },
     "execution_count": 19,
     "metadata": {},
     "output_type": "execute_result"
    }
   ],
   "source": [
    "distribuicao_origem_lead"
   ]
  },
  {
   "cell_type": "code",
   "execution_count": 20,
   "metadata": {},
   "outputs": [],
   "source": [
    "\n",
    "taxa_conversao_tipo_produto = (dados_excel.groupby('Tipo de Produto')['Contratos Totais'].sum() / dados_excel['Contratos Totais'].sum()) * 100\n"
   ]
  },
  {
   "cell_type": "code",
   "execution_count": 21,
   "metadata": {},
   "outputs": [
    {
     "data": {
      "text/plain": [
       "Tipo de Produto\n",
       "WeWork All Access                  99.710189\n",
       "WeWork All Access - Pay Per Use     0.289811\n",
       "Name: Contratos Totais, dtype: float64"
      ]
     },
     "execution_count": 21,
     "metadata": {},
     "output_type": "execute_result"
    }
   ],
   "source": [
    "taxa_conversao_tipo_produto"
   ]
  }
 ],
 "metadata": {
  "kernelspec": {
   "display_name": "Python 3",
   "language": "python",
   "name": "python3"
  },
  "language_info": {
   "codemirror_mode": {
    "name": "ipython",
    "version": 3
   },
   "file_extension": ".py",
   "mimetype": "text/x-python",
   "name": "python",
   "nbconvert_exporter": "python",
   "pygments_lexer": "ipython3",
   "version": "3.10.9"
  }
 },
 "nbformat": 4,
 "nbformat_minor": 2
}
